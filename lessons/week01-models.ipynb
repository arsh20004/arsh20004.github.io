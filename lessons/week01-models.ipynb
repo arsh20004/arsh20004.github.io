{
  "nbformat": 4,
  "nbformat_minor": 0,
  "metadata": {
    "kernelspec": {
      "display_name": "Python 3",
      "language": "python",
      "name": "python3"
    },
    "language_info": {
      "codemirror_mode": {
        "name": "ipython",
        "version": 2
      },
      "file_extension": ".py",
      "mimetype": "text/x-python",
      "name": "python",
      "nbconvert_exporter": "python",
      "pygments_lexer": "ipython2",
      "version": "2.7.6"
    },
    "colab": {
      "provenance": [],
      "include_colab_link": true
    }
  },
  "cells": [
    {
      "cell_type": "markdown",
      "metadata": {
        "id": "view-in-github",
        "colab_type": "text"
      },
      "source": [
        "<a href=\"https://colab.research.google.com/github/arsh20004/arsh20004.github.io/blob/main/lessons/week01-models.ipynb\" target=\"_parent\"><img src=\"https://colab.research.google.com/assets/colab-badge.svg\" alt=\"Open In Colab\"/></a>"
      ]
    },
    {
      "cell_type": "markdown",
      "source": [
        "# Welcome to Comp 215!\n",
        "Our week 1 lesson workbook, available on Github from the [Hamilton-at-CapU/comp215](https://github.com/Hamilton-at-CapU/comp215) repository.\n",
        "\n",
        "As usual, the first code block just imports the modules we will use."
      ],
      "metadata": {
        "id": "WBMC0GrjNRTM"
      }
    },
    {
      "cell_type": "code",
      "execution_count": 1,
      "metadata": {
        "id": "C1a6aDXAM0WM",
        "ExecuteTime": {
          "end_time": "2023-12-30T22:13:40.129712Z",
          "start_time": "2023-12-30T22:13:40.123220Z"
        }
      },
      "outputs": [],
      "source": [
        "import matplotlib.pyplot as plt\n",
        "%matplotlib inline\n",
        "from pprint import pprint"
      ]
    },
    {
      "cell_type": "markdown",
      "source": [
        "## Using Code to gain insights\n",
        "\n",
        "How can a piece of code help us deepen our understanding of real-world phenomena?  Or explain complex concepts?"
      ],
      "metadata": {
        "id": "Cdg6xKGpLSh2"
      }
    },
    {
      "cell_type": "markdown",
      "source": [
        "\n",
        "### Duckweed Example\n",
        "Duckweed plants double every day in open water. If a pond starts with 2 duckweed plants on day 1 and is completely covered after one month (30 days), on what day is the pond half covered?"
      ],
      "metadata": {
        "id": "k70NJ-JTNwYN"
      }
    },
    {
      "cell_type": "code",
      "source": [
        "nplants = 2\n",
        "for day in range (2,31):\n",
        "  nplants = 2*nplants\n",
        "  print(day,nplants)"
      ],
      "metadata": {
        "colab": {
          "base_uri": "https://localhost:8080/"
        },
        "id": "8TTYDfUf8j4X",
        "outputId": "4b8708ae-87ae-4927-cc6c-ca420e978695"
      },
      "execution_count": 11,
      "outputs": [
        {
          "output_type": "stream",
          "name": "stdout",
          "text": [
            "2 4\n",
            "3 8\n",
            "4 16\n",
            "5 32\n",
            "6 64\n",
            "7 128\n",
            "8 256\n",
            "9 512\n",
            "10 1024\n",
            "11 2048\n",
            "12 4096\n",
            "13 8192\n",
            "14 16384\n",
            "15 32768\n",
            "16 65536\n",
            "17 131072\n",
            "18 262144\n",
            "19 524288\n",
            "20 1048576\n",
            "21 2097152\n",
            "22 4194304\n",
            "23 8388608\n",
            "24 16777216\n",
            "25 33554432\n",
            "26 67108864\n",
            "27 134217728\n",
            "28 268435456\n",
            "29 536870912\n",
            "30 1073741824\n"
          ]
        }
      ]
    },
    {
      "cell_type": "markdown",
      "source": [],
      "metadata": {
        "id": "Q4VlSQPt8LvF"
      }
    },
    {
      "cell_type": "markdown",
      "source": [
        "### Plot the Growth\n",
        "We'll use matplotlib for data visualizations throughout the coure, not because it is awesome, but because it is the standard tool used by computational and data scientists."
      ],
      "metadata": {
        "id": "b6w3F2yErxuB"
      }
    },
    {
      "cell_type": "code",
      "source": [
        "\n",
        "\n",
        "# Simple example of plotting\n",
        "nplants = 2\n",
        "x = []  # X-axis values (days)\n",
        "y = []  # Y-axis values (number of plants)\n",
        "\n",
        "for day in range(1, 31):\n",
        "    x.append(day)\n",
        "    y.append(nplants)\n",
        "    nplants *= 2\n",
        "\n",
        "# Create the plot\n",
        "# plt.figure(figsize=(8, 5))\n",
        "plt.plot(x, y, label='Duckweed Growth', color='green', linestyle='-', marker='o')\n",
        "\n",
        "# Add labels and title\n",
        "plt.xlabel('Day (X-axis)')\n",
        "plt.ylabel('Number of Plants (Y-axis)')\n",
        "plt.title('Duckweed Growth Over 30 Days')\n",
        "\n",
        "# Add a legend\n",
        "plt.legend()\n",
        "\n",
        "# Display grid\n",
        "# plt.grid(True, linestyle='--', linewidth=0.5)\n",
        "\n",
        "# Show the plot\n",
        "plt.show()\n"
      ],
      "metadata": {
        "id": "i_5lOF51r63i",
        "ExecuteTime": {
          "end_time": "2023-12-30T22:39:25.831093Z",
          "start_time": "2023-12-30T22:39:25.730333Z"
        },
        "colab": {
          "base_uri": "https://localhost:8080/",
          "height": 472
        },
        "outputId": "ed71b8b1-83d7-47e1-e724-a07cdbd21b4f"
      },
      "execution_count": 21,
      "outputs": [
        {
          "output_type": "display_data",
          "data": {
            "text/plain": [
              "<Figure size 640x480 with 1 Axes>"
            ],
            "image/png": "[encoded data removed]"
          },
          "metadata": {}
        }
      ]
    },
    {
      "cell_type": "markdown",
      "source": [
        "### Exponential Growth\n",
        "Yes, this is just a simple example of exponential growth.  Although exponential growth occurs in many natural systems, many people find it unintuitive and have a hard time making predictions about it.  Describing duckweed spread on a pond as 'exponential growth' is simply applying an exponential function to the amount of duckweek as a function of time.  This model is (of course) not exactly correct, but is predicts the future amount of duckweek quite well - so it considered useful."
      ],
      "metadata": {
        "id": "4pzxO680MA3J"
      }
    }
  ]
}